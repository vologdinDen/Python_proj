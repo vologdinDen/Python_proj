{
  "nbformat": 4,
  "nbformat_minor": 0,
  "metadata": {
    "colab": {
      "name": "FoRNews.ipynb",
      "provenance": [],
      "collapsed_sections": []
    },
    "kernelspec": {
      "name": "python3",
      "display_name": "Python 3"
    },
    "language_info": {
      "name": "python"
    }
  },
  "cells": [
    {
      "cell_type": "code",
      "metadata": {
        "colab": {
          "resources": {
            "http://localhost:8080/nbextensions/google.colab/files.js": {
              "data": "Ly8gQ29weXJpZ2h0IDIwMTcgR29vZ2xlIExMQwovLwovLyBMaWNlbnNlZCB1bmRlciB0aGUgQXBhY2hlIExpY2Vuc2UsIFZlcnNpb24gMi4wICh0aGUgIkxpY2Vuc2UiKTsKLy8geW91IG1heSBub3QgdXNlIHRoaXMgZmlsZSBleGNlcHQgaW4gY29tcGxpYW5jZSB3aXRoIHRoZSBMaWNlbnNlLgovLyBZb3UgbWF5IG9idGFpbiBhIGNvcHkgb2YgdGhlIExpY2Vuc2UgYXQKLy8KLy8gICAgICBodHRwOi8vd3d3LmFwYWNoZS5vcmcvbGljZW5zZXMvTElDRU5TRS0yLjAKLy8KLy8gVW5sZXNzIHJlcXVpcmVkIGJ5IGFwcGxpY2FibGUgbGF3IG9yIGFncmVlZCB0byBpbiB3cml0aW5nLCBzb2Z0d2FyZQovLyBkaXN0cmlidXRlZCB1bmRlciB0aGUgTGljZW5zZSBpcyBkaXN0cmlidXRlZCBvbiBhbiAiQVMgSVMiIEJBU0lTLAovLyBXSVRIT1VUIFdBUlJBTlRJRVMgT1IgQ09ORElUSU9OUyBPRiBBTlkgS0lORCwgZWl0aGVyIGV4cHJlc3Mgb3IgaW1wbGllZC4KLy8gU2VlIHRoZSBMaWNlbnNlIGZvciB0aGUgc3BlY2lmaWMgbGFuZ3VhZ2UgZ292ZXJuaW5nIHBlcm1pc3Npb25zIGFuZAovLyBsaW1pdGF0aW9ucyB1bmRlciB0aGUgTGljZW5zZS4KCi8qKgogKiBAZmlsZW92ZXJ2aWV3IEhlbHBlcnMgZm9yIGdvb2dsZS5jb2xhYiBQeXRob24gbW9kdWxlLgogKi8KKGZ1bmN0aW9uKHNjb3BlKSB7CmZ1bmN0aW9uIHNwYW4odGV4dCwgc3R5bGVBdHRyaWJ1dGVzID0ge30pIHsKICBjb25zdCBlbGVtZW50ID0gZG9jdW1lbnQuY3JlYXRlRWxlbWVudCgnc3BhbicpOwogIGVsZW1lbnQudGV4dENvbnRlbnQgPSB0ZXh0OwogIGZvciAoY29uc3Qga2V5IG9mIE9iamVjdC5rZXlzKHN0eWxlQXR0cmlidXRlcykpIHsKICAgIGVsZW1lbnQuc3R5bGVba2V5XSA9IHN0eWxlQXR0cmlidXRlc1trZXldOwogIH0KICByZXR1cm4gZWxlbWVudDsKfQoKLy8gTWF4IG51bWJlciBvZiBieXRlcyB3aGljaCB3aWxsIGJlIHVwbG9hZGVkIGF0IGEgdGltZS4KY29uc3QgTUFYX1BBWUxPQURfU0laRSA9IDEwMCAqIDEwMjQ7CgpmdW5jdGlvbiBfdXBsb2FkRmlsZXMoaW5wdXRJZCwgb3V0cHV0SWQpIHsKICBjb25zdCBzdGVwcyA9IHVwbG9hZEZpbGVzU3RlcChpbnB1dElkLCBvdXRwdXRJZCk7CiAgY29uc3Qgb3V0cHV0RWxlbWVudCA9IGRvY3VtZW50LmdldEVsZW1lbnRCeUlkKG91dHB1dElkKTsKICAvLyBDYWNoZSBzdGVwcyBvbiB0aGUgb3V0cHV0RWxlbWVudCB0byBtYWtlIGl0IGF2YWlsYWJsZSBmb3IgdGhlIG5leHQgY2FsbAogIC8vIHRvIHVwbG9hZEZpbGVzQ29udGludWUgZnJvbSBQeXRob24uCiAgb3V0cHV0RWxlbWVudC5zdGVwcyA9IHN0ZXBzOwoKICByZXR1cm4gX3VwbG9hZEZpbGVzQ29udGludWUob3V0cHV0SWQpOwp9CgovLyBUaGlzIGlzIHJvdWdobHkgYW4gYXN5bmMgZ2VuZXJhdG9yIChub3Qgc3VwcG9ydGVkIGluIHRoZSBicm93c2VyIHlldCksCi8vIHdoZXJlIHRoZXJlIGFyZSBtdWx0aXBsZSBhc3luY2hyb25vdXMgc3RlcHMgYW5kIHRoZSBQeXRob24gc2lkZSBpcyBnb2luZwovLyB0byBwb2xsIGZvciBjb21wbGV0aW9uIG9mIGVhY2ggc3RlcC4KLy8gVGhpcyB1c2VzIGEgUHJvbWlzZSB0byBibG9jayB0aGUgcHl0aG9uIHNpZGUgb24gY29tcGxldGlvbiBvZiBlYWNoIHN0ZXAsCi8vIHRoZW4gcGFzc2VzIHRoZSByZXN1bHQgb2YgdGhlIHByZXZpb3VzIHN0ZXAgYXMgdGhlIGlucHV0IHRvIHRoZSBuZXh0IHN0ZXAuCmZ1bmN0aW9uIF91cGxvYWRGaWxlc0NvbnRpbnVlKG91dHB1dElkKSB7CiAgY29uc3Qgb3V0cHV0RWxlbWVudCA9IGRvY3VtZW50LmdldEVsZW1lbnRCeUlkKG91dHB1dElkKTsKICBjb25zdCBzdGVwcyA9IG91dHB1dEVsZW1lbnQuc3RlcHM7CgogIGNvbnN0IG5leHQgPSBzdGVwcy5uZXh0KG91dHB1dEVsZW1lbnQubGFzdFByb21pc2VWYWx1ZSk7CiAgcmV0dXJuIFByb21pc2UucmVzb2x2ZShuZXh0LnZhbHVlLnByb21pc2UpLnRoZW4oKHZhbHVlKSA9PiB7CiAgICAvLyBDYWNoZSB0aGUgbGFzdCBwcm9taXNlIHZhbHVlIHRvIG1ha2UgaXQgYXZhaWxhYmxlIHRvIHRoZSBuZXh0CiAgICAvLyBzdGVwIG9mIHRoZSBnZW5lcmF0b3IuCiAgICBvdXRwdXRFbGVtZW50Lmxhc3RQcm9taXNlVmFsdWUgPSB2YWx1ZTsKICAgIHJldHVybiBuZXh0LnZhbHVlLnJlc3BvbnNlOwogIH0pOwp9CgovKioKICogR2VuZXJhdG9yIGZ1bmN0aW9uIHdoaWNoIGlzIGNhbGxlZCBiZXR3ZWVuIGVhY2ggYXN5bmMgc3RlcCBvZiB0aGUgdXBsb2FkCiAqIHByb2Nlc3MuCiAqIEBwYXJhbSB7c3RyaW5nfSBpbnB1dElkIEVsZW1lbnQgSUQgb2YgdGhlIGlucHV0IGZpbGUgcGlja2VyIGVsZW1lbnQuCiAqIEBwYXJhbSB7c3RyaW5nfSBvdXRwdXRJZCBFbGVtZW50IElEIG9mIHRoZSBvdXRwdXQgZGlzcGxheS4KICogQHJldHVybiB7IUl0ZXJhYmxlPCFPYmplY3Q+fSBJdGVyYWJsZSBvZiBuZXh0IHN0ZXBzLgogKi8KZnVuY3Rpb24qIHVwbG9hZEZpbGVzU3RlcChpbnB1dElkLCBvdXRwdXRJZCkgewogIGNvbnN0IGlucHV0RWxlbWVudCA9IGRvY3VtZW50LmdldEVsZW1lbnRCeUlkKGlucHV0SWQpOwogIGlucHV0RWxlbWVudC5kaXNhYmxlZCA9IGZhbHNlOwoKICBjb25zdCBvdXRwdXRFbGVtZW50ID0gZG9jdW1lbnQuZ2V0RWxlbWVudEJ5SWQob3V0cHV0SWQpOwogIG91dHB1dEVsZW1lbnQuaW5uZXJIVE1MID0gJyc7CgogIGNvbnN0IHBpY2tlZFByb21pc2UgPSBuZXcgUHJvbWlzZSgocmVzb2x2ZSkgPT4gewogICAgaW5wdXRFbGVtZW50LmFkZEV2ZW50TGlzdGVuZXIoJ2NoYW5nZScsIChlKSA9PiB7CiAgICAgIHJlc29sdmUoZS50YXJnZXQuZmlsZXMpOwogICAgfSk7CiAgfSk7CgogIGNvbnN0IGNhbmNlbCA9IGRvY3VtZW50LmNyZWF0ZUVsZW1lbnQoJ2J1dHRvbicpOwogIGlucHV0RWxlbWVudC5wYXJlbnRFbGVtZW50LmFwcGVuZENoaWxkKGNhbmNlbCk7CiAgY2FuY2VsLnRleHRDb250ZW50ID0gJ0NhbmNlbCB1cGxvYWQnOwogIGNvbnN0IGNhbmNlbFByb21pc2UgPSBuZXcgUHJvbWlzZSgocmVzb2x2ZSkgPT4gewogICAgY2FuY2VsLm9uY2xpY2sgPSAoKSA9PiB7CiAgICAgIHJlc29sdmUobnVsbCk7CiAgICB9OwogIH0pOwoKICAvLyBXYWl0IGZvciB0aGUgdXNlciB0byBwaWNrIHRoZSBmaWxlcy4KICBjb25zdCBmaWxlcyA9IHlpZWxkIHsKICAgIHByb21pc2U6IFByb21pc2UucmFjZShbcGlja2VkUHJvbWlzZSwgY2FuY2VsUHJvbWlzZV0pLAogICAgcmVzcG9uc2U6IHsKICAgICAgYWN0aW9uOiAnc3RhcnRpbmcnLAogICAgfQogIH07CgogIGNhbmNlbC5yZW1vdmUoKTsKCiAgLy8gRGlzYWJsZSB0aGUgaW5wdXQgZWxlbWVudCBzaW5jZSBmdXJ0aGVyIHBpY2tzIGFyZSBub3QgYWxsb3dlZC4KICBpbnB1dEVsZW1lbnQuZGlzYWJsZWQgPSB0cnVlOwoKICBpZiAoIWZpbGVzKSB7CiAgICByZXR1cm4gewogICAgICByZXNwb25zZTogewogICAgICAgIGFjdGlvbjogJ2NvbXBsZXRlJywKICAgICAgfQogICAgfTsKICB9CgogIGZvciAoY29uc3QgZmlsZSBvZiBmaWxlcykgewogICAgY29uc3QgbGkgPSBkb2N1bWVudC5jcmVhdGVFbGVtZW50KCdsaScpOwogICAgbGkuYXBwZW5kKHNwYW4oZmlsZS5uYW1lLCB7Zm9udFdlaWdodDogJ2JvbGQnfSkpOwogICAgbGkuYXBwZW5kKHNwYW4oCiAgICAgICAgYCgke2ZpbGUudHlwZSB8fCAnbi9hJ30pIC0gJHtmaWxlLnNpemV9IGJ5dGVzLCBgICsKICAgICAgICBgbGFzdCBtb2RpZmllZDogJHsKICAgICAgICAgICAgZmlsZS5sYXN0TW9kaWZpZWREYXRlID8gZmlsZS5sYXN0TW9kaWZpZWREYXRlLnRvTG9jYWxlRGF0ZVN0cmluZygpIDoKICAgICAgICAgICAgICAgICAgICAgICAgICAgICAgICAgICAgJ24vYSd9IC0gYCkpOwogICAgY29uc3QgcGVyY2VudCA9IHNwYW4oJzAlIGRvbmUnKTsKICAgIGxpLmFwcGVuZENoaWxkKHBlcmNlbnQpOwoKICAgIG91dHB1dEVsZW1lbnQuYXBwZW5kQ2hpbGQobGkpOwoKICAgIGNvbnN0IGZpbGVEYXRhUHJvbWlzZSA9IG5ldyBQcm9taXNlKChyZXNvbHZlKSA9PiB7CiAgICAgIGNvbnN0IHJlYWRlciA9IG5ldyBGaWxlUmVhZGVyKCk7CiAgICAgIHJlYWRlci5vbmxvYWQgPSAoZSkgPT4gewogICAgICAgIHJlc29sdmUoZS50YXJnZXQucmVzdWx0KTsKICAgICAgfTsKICAgICAgcmVhZGVyLnJlYWRBc0FycmF5QnVmZmVyKGZpbGUpOwogICAgfSk7CiAgICAvLyBXYWl0IGZvciB0aGUgZGF0YSB0byBiZSByZWFkeS4KICAgIGxldCBmaWxlRGF0YSA9IHlpZWxkIHsKICAgICAgcHJvbWlzZTogZmlsZURhdGFQcm9taXNlLAogICAgICByZXNwb25zZTogewogICAgICAgIGFjdGlvbjogJ2NvbnRpbnVlJywKICAgICAgfQogICAgfTsKCiAgICAvLyBVc2UgYSBjaHVua2VkIHNlbmRpbmcgdG8gYXZvaWQgbWVzc2FnZSBzaXplIGxpbWl0cy4gU2VlIGIvNjIxMTU2NjAuCiAgICBsZXQgcG9zaXRpb24gPSAwOwogICAgZG8gewogICAgICBjb25zdCBsZW5ndGggPSBNYXRoLm1pbihmaWxlRGF0YS5ieXRlTGVuZ3RoIC0gcG9zaXRpb24sIE1BWF9QQVlMT0FEX1NJWkUpOwogICAgICBjb25zdCBjaHVuayA9IG5ldyBVaW50OEFycmF5KGZpbGVEYXRhLCBwb3NpdGlvbiwgbGVuZ3RoKTsKICAgICAgcG9zaXRpb24gKz0gbGVuZ3RoOwoKICAgICAgY29uc3QgYmFzZTY0ID0gYnRvYShTdHJpbmcuZnJvbUNoYXJDb2RlLmFwcGx5KG51bGwsIGNodW5rKSk7CiAgICAgIHlpZWxkIHsKICAgICAgICByZXNwb25zZTogewogICAgICAgICAgYWN0aW9uOiAnYXBwZW5kJywKICAgICAgICAgIGZpbGU6IGZpbGUubmFtZSwKICAgICAgICAgIGRhdGE6IGJhc2U2NCwKICAgICAgICB9LAogICAgICB9OwoKICAgICAgbGV0IHBlcmNlbnREb25lID0gZmlsZURhdGEuYnl0ZUxlbmd0aCA9PT0gMCA/CiAgICAgICAgICAxMDAgOgogICAgICAgICAgTWF0aC5yb3VuZCgocG9zaXRpb24gLyBmaWxlRGF0YS5ieXRlTGVuZ3RoKSAqIDEwMCk7CiAgICAgIHBlcmNlbnQudGV4dENvbnRlbnQgPSBgJHtwZXJjZW50RG9uZX0lIGRvbmVgOwoKICAgIH0gd2hpbGUgKHBvc2l0aW9uIDwgZmlsZURhdGEuYnl0ZUxlbmd0aCk7CiAgfQoKICAvLyBBbGwgZG9uZS4KICB5aWVsZCB7CiAgICByZXNwb25zZTogewogICAgICBhY3Rpb246ICdjb21wbGV0ZScsCiAgICB9CiAgfTsKfQoKc2NvcGUuZ29vZ2xlID0gc2NvcGUuZ29vZ2xlIHx8IHt9OwpzY29wZS5nb29nbGUuY29sYWIgPSBzY29wZS5nb29nbGUuY29sYWIgfHwge307CnNjb3BlLmdvb2dsZS5jb2xhYi5fZmlsZXMgPSB7CiAgX3VwbG9hZEZpbGVzLAogIF91cGxvYWRGaWxlc0NvbnRpbnVlLAp9Owp9KShzZWxmKTsK",
              "ok": true,
              "headers": [
                [
                  "content-type",
                  "application/javascript"
                ]
              ],
              "status": 200,
              "status_text": ""
            }
          },
          "base_uri": "https://localhost:8080/",
          "height": 74
        },
        "id": "2Cm0ZJgEoN3B",
        "outputId": "e4567109-2e38-4c1e-946d-667176444e3b"
      },
      "source": [
        "from google.colab import files\n",
        "files.upload()"
      ],
      "execution_count": null,
      "outputs": [
        {
          "output_type": "display_data",
          "data": {
            "text/html": [
              "\n",
              "     <input type=\"file\" id=\"files-6b0b9ce0-66f9-43ab-821c-d44e5cc2d511\" name=\"files[]\" multiple disabled\n",
              "        style=\"border:none\" />\n",
              "     <output id=\"result-6b0b9ce0-66f9-43ab-821c-d44e5cc2d511\">\n",
              "      Upload widget is only available when the cell has been executed in the\n",
              "      current browser session. Please rerun this cell to enable.\n",
              "      </output>\n",
              "      <script src=\"/nbextensions/google.colab/files.js\"></script> "
            ],
            "text/plain": [
              "<IPython.core.display.HTML object>"
            ]
          },
          "metadata": {}
        },
        {
          "output_type": "stream",
          "text": [
            "Saving archive.zip to archive.zip\n"
          ],
          "name": "stdout"
        }
      ]
    },
    {
      "cell_type": "code",
      "metadata": {
        "id": "UFLEObqQoXUb"
      },
      "source": [
        "!unzip archive.zip"
      ],
      "execution_count": null,
      "outputs": []
    },
    {
      "cell_type": "code",
      "metadata": {
        "id": "1pdwOUqIosR9"
      },
      "source": [
        "import pandas as pd\n",
        "import numpy as np\n",
        "\n",
        "real_news = pd.read_csv('True.csv')\n",
        "fake_news = pd.read_csv('Fake.csv')\n",
        "\n",
        "true_labels = pd.DataFrame({'label': [1 for i in range(real_news.shape[0])]})\n",
        "real_news = real_news.join(true_labels)\n",
        "\n",
        "fake_labels = pd.DataFrame({'label': [0 for i in range(fake_news.shape[0])]})\n",
        "fake_news = fake_news.join(fake_labels)\n",
        "\n",
        "news_dataset = pd.concat([real_news, fake_news])\n",
        "\n",
        "news_dataset = news_dataset.sample(frac=1)\n"
      ],
      "execution_count": null,
      "outputs": []
    },
    {
      "cell_type": "code",
      "metadata": {
        "colab": {
          "base_uri": "https://localhost:8080/"
        },
        "id": "JcL6HdEHxxep",
        "outputId": "22ffb65f-80b5-4d90-a5fb-bcfcf47c3175"
      },
      "source": [
        "y['subject'].unique()"
      ],
      "execution_count": null,
      "outputs": [
        {
          "output_type": "execute_result",
          "data": {
            "text/plain": [
              "array(['politics', 'politicsNews', 'News', 'worldnews', 'left-news',\n",
              "       'Government News', 'US_News', 'Middle-east'], dtype=object)"
            ]
          },
          "metadata": {},
          "execution_count": 175
        }
      ]
    },
    {
      "cell_type": "code",
      "metadata": {
        "id": "iTby1rNk-JbG"
      },
      "source": [
        "from sklearn.model_selection import train_test_split\n",
        "from sklearn.preprocessing import OrdinalEncoder\n",
        "\n",
        "ordinal = OrdinalEncoder()\n",
        "\n",
        "x, y = news_dataset['text'], news_dataset[['label', 'subject']]\n",
        "\n",
        "train_x, val_x, train_y, val_y = train_test_split(x, y, test_size = 0.2)\n",
        "\n",
        "train_y['subject'] = ordinal.fit_transform(np.array(train_y['subject']).reshape(-1,1))\n",
        "val_y['subject'] = ordinal.fit_transform(np.array(val_y['subject']).reshape(-1,1))"
      ],
      "execution_count": null,
      "outputs": []
    },
    {
      "cell_type": "code",
      "metadata": {
        "colab": {
          "base_uri": "https://localhost:8080/"
        },
        "id": "zOhNLLZ0mKWj",
        "outputId": "fb7a1a3b-4f55-4dd2-93e0-a39d06a75427"
      },
      "source": [
        "val_y['subject']"
      ],
      "execution_count": null,
      "outputs": [
        {
          "output_type": "execute_result",
          "data": {
            "text/plain": [
              "2224     6.0\n",
              "14258    5.0\n",
              "10535    5.0\n",
              "280      2.0\n",
              "9035     2.0\n",
              "        ... \n",
              "447      6.0\n",
              "16669    7.0\n",
              "13985    7.0\n",
              "9229     6.0\n",
              "16434    0.0\n",
              "Name: subject, Length: 8980, dtype: float64"
            ]
          },
          "metadata": {},
          "execution_count": 176
        }
      ]
    },
    {
      "cell_type": "code",
      "metadata": {
        "colab": {
          "base_uri": "https://localhost:8080/"
        },
        "id": "pBozQI-oqVh0",
        "outputId": "e734e7be-c9e6-4a94-f6f9-bff90d0eca0d"
      },
      "source": [
        "news_dataset['subject'].unique().shape"
      ],
      "execution_count": null,
      "outputs": [
        {
          "output_type": "execute_result",
          "data": {
            "text/plain": [
              "(8,)"
            ]
          },
          "metadata": {},
          "execution_count": 67
        }
      ]
    },
    {
      "cell_type": "code",
      "metadata": {
        "id": "7YReOv5P_lf7"
      },
      "source": [
        "from keras.preprocessing.text import Tokenizer\n",
        "\n",
        "tokenizer = Tokenizer(num_words=1000)\n",
        "tokenizer.fit_on_texts(x)\n",
        "\n",
        "sequentail_x = tokenizer.texts_to_sequences(x)\n",
        "\n",
        "\n",
        "x_train = tokenizer.texts_to_matrix(train_x, mode='binary')\n",
        "x_val = tokenizer.texts_to_matrix(val_x, mode='binary')\n"
      ],
      "execution_count": null,
      "outputs": []
    },
    {
      "cell_type": "code",
      "metadata": {
        "id": "asdr3gYutVfK"
      },
      "source": [
        "np_subject_train = {'subject': []}\n",
        "for i in range(train_y['subject'].shape[0]):\n",
        "  zeros = [0 for i in range(8)]\n",
        "  zeros[int(train_y['subject'].iloc[i])] = 1\n",
        "  np_subject_train['subject'].append(zeros)\n",
        "\n",
        "np_subject_val = {'subject': []}\n",
        "for i in range(val_y['subject'].shape[0]):\n",
        "  zeros = [0 for i in range(8)]\n",
        "  zeros[int(val_y['subject'].iloc[i])] = 1\n",
        "  np_subject_val['subject'].append(zeros)"
      ],
      "execution_count": null,
      "outputs": []
    },
    {
      "cell_type": "code",
      "metadata": {
        "id": "FmF1HNTb5jpu"
      },
      "source": [
        "train_mark = pd.DataFrame(train_mark)\n",
        "val_mark = pd.DataFrame(val_mark)\n",
        "\n",
        "train_mark = train_mark.to_numpy()\n",
        "val_mark = val_mark.to_numpy()"
      ],
      "execution_count": null,
      "outputs": []
    },
    {
      "cell_type": "code",
      "metadata": {
        "colab": {
          "base_uri": "https://localhost:8080/"
        },
        "id": "ASJod_1pArIB",
        "outputId": "5bb1a084-d66d-431a-d227-112666f8d702"
      },
      "source": [
        "from keras.layers import Embedding, Flatten, Dense, Dropout, Conv1D, MaxPooling1D, GlobalMaxPool1D\n",
        "from keras import Sequential\n",
        "from keras import Input\n",
        "from keras.models import Model\n",
        "\n",
        "inputs = Input(shape=(None, ), name='input')\n",
        "embedding_text = Embedding(1000, 8, input_length=1000)(inputs)\n",
        "\n",
        "z = Conv1D(128, 5, activation='relu')(embedding_text)\n",
        "z = MaxPooling1D(5)(z)\n",
        "z = Conv1D(256, 5, activation='relu')(z)\n",
        "z = Conv1D(256, 5, activation='relu')(z)\n",
        "z = MaxPooling1D(5)(z)\n",
        "z = Conv1D(256, 5, activation='relu')(z)\n",
        "z = Conv1D(256, 5, activation='relu')(z)\n",
        "z = GlobalMaxPool1D()(z)\n",
        "z = Dense(128, activation='relu')(z)\n",
        "\n",
        "fake_or_true = Dense(1, activation='sigmoid', name='FOT')(z)\n",
        "\n",
        "subject = Dense(news_dataset['subject'].unique().shape[0], activation='softmax', name='classificator')(z)\n",
        "\n",
        "model = Model(inputs, [fake_or_true, subject])\n",
        "\n",
        "model.compile(optimizer='rmsprop', loss=['binary_crossentropy', 'categorical_crossentropy'], metrics=['acc'])\n",
        "model.summary()"
      ],
      "execution_count": null,
      "outputs": [
        {
          "output_type": "stream",
          "text": [
            "Model: \"model_15\"\n",
            "__________________________________________________________________________________________________\n",
            "Layer (type)                    Output Shape         Param #     Connected to                     \n",
            "==================================================================================================\n",
            "input (InputLayer)              [(None, None)]       0                                            \n",
            "__________________________________________________________________________________________________\n",
            "embedding_20 (Embedding)        (None, None, 8)      8000        input[0][0]                      \n",
            "__________________________________________________________________________________________________\n",
            "conv1d_84 (Conv1D)              (None, None, 128)    5248        embedding_20[0][0]               \n",
            "__________________________________________________________________________________________________\n",
            "max_pooling1d_34 (MaxPooling1D) (None, None, 128)    0           conv1d_84[0][0]                  \n",
            "__________________________________________________________________________________________________\n",
            "conv1d_85 (Conv1D)              (None, None, 256)    164096      max_pooling1d_34[0][0]           \n",
            "__________________________________________________________________________________________________\n",
            "conv1d_86 (Conv1D)              (None, None, 256)    327936      conv1d_85[0][0]                  \n",
            "__________________________________________________________________________________________________\n",
            "max_pooling1d_35 (MaxPooling1D) (None, None, 256)    0           conv1d_86[0][0]                  \n",
            "__________________________________________________________________________________________________\n",
            "conv1d_87 (Conv1D)              (None, None, 256)    327936      max_pooling1d_35[0][0]           \n",
            "__________________________________________________________________________________________________\n",
            "conv1d_88 (Conv1D)              (None, None, 256)    327936      conv1d_87[0][0]                  \n",
            "__________________________________________________________________________________________________\n",
            "global_max_pooling1d_17 (Global (None, 256)          0           conv1d_88[0][0]                  \n",
            "__________________________________________________________________________________________________\n",
            "dense_21 (Dense)                (None, 128)          32896       global_max_pooling1d_17[0][0]    \n",
            "__________________________________________________________________________________________________\n",
            "FOT (Dense)                     (None, 1)            129         dense_21[0][0]                   \n",
            "__________________________________________________________________________________________________\n",
            "classificator (Dense)           (None, 8)            1032        dense_21[0][0]                   \n",
            "==================================================================================================\n",
            "Total params: 1,195,209\n",
            "Trainable params: 1,195,209\n",
            "Non-trainable params: 0\n",
            "__________________________________________________________________________________________________\n"
          ],
          "name": "stdout"
        }
      ]
    },
    {
      "cell_type": "code",
      "metadata": {
        "id": "RisS-G0pBH__"
      },
      "source": [
        "from keras.callbacks import EarlyStopping, ReduceLROnPlateau\n",
        "\n",
        "callbakcs = [EarlyStopping(monitor='val_loss', restore_best_weights=True, patience=15),\n",
        "             ReduceLROnPlateau(monitor='val_loss', factor=0.1, patience = 10)]"
      ],
      "execution_count": null,
      "outputs": []
    },
    {
      "cell_type": "code",
      "metadata": {
        "id": "dP-zDYgTJ8tJ"
      },
      "source": [
        "train_subject = np.zeros((np_train_subject.shape[0], 8))\n",
        "for i in range(np_train_subject.shape[0]):\n",
        "  train_subject[i] = np_train_subject[i][0]\n",
        "\n",
        "val_subject = np.zeros((np_subject_val.shape[0], 8))\n",
        "for i in range(np_subject_val.shape[0]):\n",
        "  val_subject[i] = np_subject_val[i][0]"
      ],
      "execution_count": null,
      "outputs": []
    },
    {
      "cell_type": "code",
      "metadata": {
        "colab": {
          "base_uri": "https://localhost:8080/"
        },
        "id": "9lU8FqcAOTYs",
        "outputId": "a539d0ce-9f0e-4fe5-dd2f-c5dbe2d267ba"
      },
      "source": [
        "x_val.shape"
      ],
      "execution_count": null,
      "outputs": [
        {
          "output_type": "execute_result",
          "data": {
            "text/plain": [
              "(8980, 1000)"
            ]
          },
          "metadata": {},
          "execution_count": 293
        }
      ]
    },
    {
      "cell_type": "code",
      "metadata": {
        "colab": {
          "base_uri": "https://localhost:8080/"
        },
        "id": "g4zBoXRABJuA",
        "outputId": "be596459-eac7-4bad-be5a-2b093cc70e00"
      },
      "source": [
        "histoty = model.fit(\n",
        "    x_train,\n",
        "    [train_y['label'], train_subject],\n",
        "    batch_size=64,\n",
        "    epochs=100,\n",
        "    validation_split=0.2,\n",
        "    callbacks=callbakcs,\n",
        "    validation_data=(x_val, [val_y['label'], val_subject] ))"
      ],
      "execution_count": null,
      "outputs": [
        {
          "output_type": "stream",
          "text": [
            "Epoch 1/100\n",
            "449/449 [==============================] - 551s 1s/step - loss: 2.0888 - FOT_loss: 0.5327 - classificator_loss: 1.5561 - FOT_acc: 0.6959 - classificator_acc: 0.3809 - val_loss: 1.4070 - val_FOT_loss: 0.2476 - val_classificator_loss: 1.1595 - val_FOT_acc: 0.9081 - val_classificator_acc: 0.5862\n",
            "Epoch 2/100\n",
            "449/449 [==============================] - 545s 1s/step - loss: 1.0844 - FOT_loss: 0.1568 - classificator_loss: 0.9276 - FOT_acc: 0.9414 - classificator_acc: 0.6567 - val_loss: 0.8905 - val_FOT_loss: 0.1023 - val_classificator_loss: 0.7882 - val_FOT_acc: 0.9620 - val_classificator_acc: 0.7013\n",
            "Epoch 3/100\n",
            "449/449 [==============================] - 543s 1s/step - loss: 0.7596 - FOT_loss: 0.0782 - classificator_loss: 0.6814 - FOT_acc: 0.9724 - classificator_acc: 0.7425 - val_loss: 0.6970 - val_FOT_loss: 0.0674 - val_classificator_loss: 0.6296 - val_FOT_acc: 0.9768 - val_classificator_acc: 0.7528\n",
            "Epoch 4/100\n",
            "449/449 [==============================] - 543s 1s/step - loss: 0.6410 - FOT_loss: 0.0502 - classificator_loss: 0.5909 - FOT_acc: 0.9821 - classificator_acc: 0.7683 - val_loss: 0.7681 - val_FOT_loss: 0.1132 - val_classificator_loss: 0.6549 - val_FOT_acc: 0.9602 - val_classificator_acc: 0.7501\n",
            "Epoch 5/100\n",
            "449/449 [==============================] - 544s 1s/step - loss: 0.5680 - FOT_loss: 0.0353 - classificator_loss: 0.5327 - FOT_acc: 0.9880 - classificator_acc: 0.7818 - val_loss: 0.6373 - val_FOT_loss: 0.0526 - val_classificator_loss: 0.5847 - val_FOT_acc: 0.9822 - val_classificator_acc: 0.7632\n",
            "Epoch 6/100\n",
            "449/449 [==============================] - 554s 1s/step - loss: 0.5239 - FOT_loss: 0.0299 - classificator_loss: 0.4940 - FOT_acc: 0.9896 - classificator_acc: 0.7965 - val_loss: 0.6653 - val_FOT_loss: 0.0552 - val_classificator_loss: 0.6102 - val_FOT_acc: 0.9833 - val_classificator_acc: 0.7667\n",
            "Epoch 7/100\n",
            "449/449 [==============================] - 565s 1s/step - loss: 0.4781 - FOT_loss: 0.0213 - classificator_loss: 0.4568 - FOT_acc: 0.9923 - classificator_acc: 0.8036 - val_loss: 0.5934 - val_FOT_loss: 0.0506 - val_classificator_loss: 0.5428 - val_FOT_acc: 0.9822 - val_classificator_acc: 0.7771\n",
            "Epoch 8/100\n",
            "449/449 [==============================] - 554s 1s/step - loss: 0.4520 - FOT_loss: 0.0188 - classificator_loss: 0.4332 - FOT_acc: 0.9932 - classificator_acc: 0.8068 - val_loss: 0.5993 - val_FOT_loss: 0.0523 - val_classificator_loss: 0.5470 - val_FOT_acc: 0.9854 - val_classificator_acc: 0.7745\n",
            "Epoch 9/100\n",
            "449/449 [==============================] - 557s 1s/step - loss: 0.4278 - FOT_loss: 0.0161 - classificator_loss: 0.4116 - FOT_acc: 0.9946 - classificator_acc: 0.8149 - val_loss: 0.5999 - val_FOT_loss: 0.0506 - val_classificator_loss: 0.5493 - val_FOT_acc: 0.9837 - val_classificator_acc: 0.7809\n",
            "Epoch 10/100\n",
            "449/449 [==============================] - 542s 1s/step - loss: 0.4087 - FOT_loss: 0.0134 - classificator_loss: 0.3954 - FOT_acc: 0.9954 - classificator_acc: 0.8162 - val_loss: 0.6374 - val_FOT_loss: 0.0731 - val_classificator_loss: 0.5643 - val_FOT_acc: 0.9805 - val_classificator_acc: 0.7710\n",
            "Epoch 11/100\n",
            "449/449 [==============================] - 539s 1s/step - loss: 0.3938 - FOT_loss: 0.0131 - classificator_loss: 0.3807 - FOT_acc: 0.9958 - classificator_acc: 0.8227 - val_loss: 0.6118 - val_FOT_loss: 0.0550 - val_classificator_loss: 0.5568 - val_FOT_acc: 0.9815 - val_classificator_acc: 0.7767\n",
            "Epoch 12/100\n",
            "449/449 [==============================] - 544s 1s/step - loss: 0.3835 - FOT_loss: 0.0138 - classificator_loss: 0.3697 - FOT_acc: 0.9953 - classificator_acc: 0.8250 - val_loss: 0.6184 - val_FOT_loss: 0.0605 - val_classificator_loss: 0.5578 - val_FOT_acc: 0.9845 - val_classificator_acc: 0.7796\n",
            "Epoch 13/100\n",
            "449/449 [==============================] - 542s 1s/step - loss: 0.3706 - FOT_loss: 0.0099 - classificator_loss: 0.3607 - FOT_acc: 0.9968 - classificator_acc: 0.8271 - val_loss: 0.7456 - val_FOT_loss: 0.1043 - val_classificator_loss: 0.6413 - val_FOT_acc: 0.9742 - val_classificator_acc: 0.7705\n",
            "Epoch 14/100\n",
            "449/449 [==============================] - 544s 1s/step - loss: 0.3675 - FOT_loss: 0.0120 - classificator_loss: 0.3555 - FOT_acc: 0.9963 - classificator_acc: 0.8309 - val_loss: 0.6061 - val_FOT_loss: 0.0451 - val_classificator_loss: 0.5610 - val_FOT_acc: 0.9873 - val_classificator_acc: 0.7790\n",
            "Epoch 15/100\n",
            "449/449 [==============================] - 544s 1s/step - loss: 0.3641 - FOT_loss: 0.0116 - classificator_loss: 0.3525 - FOT_acc: 0.9963 - classificator_acc: 0.8350 - val_loss: 0.6905 - val_FOT_loss: 0.0592 - val_classificator_loss: 0.6313 - val_FOT_acc: 0.9852 - val_classificator_acc: 0.7805\n",
            "Epoch 16/100\n",
            "449/449 [==============================] - 542s 1s/step - loss: 0.3489 - FOT_loss: 0.0064 - classificator_loss: 0.3426 - FOT_acc: 0.9979 - classificator_acc: 0.8340 - val_loss: 0.7496 - val_FOT_loss: 0.0626 - val_classificator_loss: 0.6870 - val_FOT_acc: 0.9861 - val_classificator_acc: 0.7691\n",
            "Epoch 17/100\n",
            "449/449 [==============================] - 544s 1s/step - loss: 0.3513 - FOT_loss: 0.0097 - classificator_loss: 0.3417 - FOT_acc: 0.9971 - classificator_acc: 0.8342 - val_loss: 0.7737 - val_FOT_loss: 0.0601 - val_classificator_loss: 0.7136 - val_FOT_acc: 0.9872 - val_classificator_acc: 0.7783\n",
            "Epoch 18/100\n",
            "449/449 [==============================] - 543s 1s/step - loss: 0.2808 - FOT_loss: 6.8447e-04 - classificator_loss: 0.2801 - FOT_acc: 0.9998 - classificator_acc: 0.8551 - val_loss: 0.7260 - val_FOT_loss: 0.0576 - val_classificator_loss: 0.6684 - val_FOT_acc: 0.9878 - val_classificator_acc: 0.7760\n",
            "Epoch 19/100\n",
            "449/449 [==============================] - 543s 1s/step - loss: 0.2661 - FOT_loss: 2.1933e-04 - classificator_loss: 0.2659 - FOT_acc: 0.9999 - classificator_acc: 0.8602 - val_loss: 0.8272 - val_FOT_loss: 0.0716 - val_classificator_loss: 0.7556 - val_FOT_acc: 0.9876 - val_classificator_acc: 0.7748\n",
            "Epoch 20/100\n",
            "449/449 [==============================] - 539s 1s/step - loss: 0.2586 - FOT_loss: 3.3236e-05 - classificator_loss: 0.2586 - FOT_acc: 1.0000 - classificator_acc: 0.8642 - val_loss: 0.8528 - val_FOT_loss: 0.0744 - val_classificator_loss: 0.7784 - val_FOT_acc: 0.9878 - val_classificator_acc: 0.7716\n",
            "Epoch 21/100\n",
            "449/449 [==============================] - 545s 1s/step - loss: 0.2519 - FOT_loss: 3.3223e-05 - classificator_loss: 0.2519 - FOT_acc: 1.0000 - classificator_acc: 0.8675 - val_loss: 0.9201 - val_FOT_loss: 0.0806 - val_classificator_loss: 0.8394 - val_FOT_acc: 0.9893 - val_classificator_acc: 0.7635\n",
            "Epoch 22/100\n",
            "449/449 [==============================] - 543s 1s/step - loss: 0.2459 - FOT_loss: 5.8449e-05 - classificator_loss: 0.2458 - FOT_acc: 1.0000 - classificator_acc: 0.8705 - val_loss: 1.0794 - val_FOT_loss: 0.0955 - val_classificator_loss: 0.9839 - val_FOT_acc: 0.9889 - val_classificator_acc: 0.7645\n"
          ],
          "name": "stdout"
        }
      ]
    },
    {
      "cell_type": "code",
      "metadata": {
        "colab": {
          "base_uri": "https://localhost:8080/",
          "height": 513
        },
        "id": "a1EhMLS5hTxt",
        "outputId": "c15466fc-dfcb-49ca-89e8-aad7fb5a6423"
      },
      "source": [
        "import matplotlib.pyplot as plt\n",
        "\n",
        "x = range(len(histoty.history['val_classificator_acc']))\n",
        "\n",
        "plt.plot(x, histoty.history['val_classificator_acc'], 'b',label=\"Validation Accurasy\")\n",
        "plt.plot(x, histoty.history['val_classificator_loss'], 'bo',label=\"Validation Loss\")\n",
        "plt.legend()\n",
        "\n",
        "plt.figure()\n",
        "plt.plot(x, histoty.history['val_FOT_acc'], 'b',label=\"Validation Accurasy\")\n",
        "plt.plot(x, histoty.history['val_FOT_loss'], 'bo',label=\"Validation Loss\")\n",
        "plt.legend()\n",
        "\n",
        "\n",
        "plt.show()"
      ],
      "execution_count": null,
      "outputs": [
        {
          "output_type": "display_data",
          "data": {
            "image/png": "[encoded data removed]",
            "text/plain": [
              "<Figure size 432x288 with 1 Axes>"
            ]
          },
          "metadata": {
            "needs_background": "light"
          }
        },
        {
          "output_type": "display_data",
          "data": {
            "image/png": "[encoded data removed]",
            "text/plain": [
              "<Figure size 432x288 with 1 Axes>"
            ]
          },
          "metadata": {
            "needs_background": "light"
          }
        }
      ]
    },
    {
      "cell_type": "code",
      "metadata": {
        "id": "CjT5FvQcJtJV"
      },
      "source": [
        "model.save_weights('weights.h5')"
      ],
      "execution_count": null,
      "outputs": []
    },
    {
      "cell_type": "markdown",
      "metadata": {
        "id": "r_DmMqOqy-m3"
      },
      "source": [
        "#Sklearn"
      ]
    },
    {
      "cell_type": "code",
      "metadata": {
        "colab": {
          "base_uri": "https://localhost:8080/"
        },
        "id": "39li34Xly-M4",
        "outputId": "7c5ff376-19b1-42f2-8c5a-5e8dfb7d3de7"
      },
      "source": [
        "from sklearn.pipeline import Pipeline\n",
        "from sklearn.feature_extraction.text import CountVectorizer, TfidfTransformer\n",
        "from sklearn.linear_model import SGDClassifier\n",
        "\n",
        "text_clf = Pipeline(steps=[\n",
        "                           ('vect', CountVectorizer()),\n",
        "                           ('tfidf', TfidfTransformer()),\n",
        "                           ('clf', SGDClassifier(loss='hinge', penalty='l2', alpha=1e-3, random_state=1, max_iter=5, tol=None))\n",
        "])\n",
        "\n",
        "text_clf.fit(train_x, train_y['label'])"
      ],
      "execution_count": null,
      "outputs": [
        {
          "output_type": "execute_result",
          "data": {
            "text/plain": [
              "Pipeline(memory=None,\n",
              "         steps=[('vect',\n",
              "                 CountVectorizer(analyzer='word', binary=False,\n",
              "                                 decode_error='strict',\n",
              "                                 dtype=<class 'numpy.int64'>, encoding='utf-8',\n",
              "                                 input='content', lowercase=True, max_df=1.0,\n",
              "                                 max_features=None, min_df=1,\n",
              "                                 ngram_range=(1, 1), preprocessor=None,\n",
              "                                 stop_words=None, strip_accents=None,\n",
              "                                 token_pattern='(?u)\\\\b\\\\w\\\\w+\\\\b',\n",
              "                                 tokenizer=None, vocabulary=Non...\n",
              "                                  sublinear_tf=False, use_idf=True)),\n",
              "                ('clf',\n",
              "                 SGDClassifier(alpha=0.001, average=False, class_weight=None,\n",
              "                               early_stopping=False, epsilon=0.1, eta0=0.0,\n",
              "                               fit_intercept=True, l1_ratio=0.15,\n",
              "                               learning_rate='optimal', loss='hinge',\n",
              "                               max_iter=5, n_iter_no_change=5, n_jobs=None,\n",
              "                               penalty='l2', power_t=0.5, random_state=1,\n",
              "                               shuffle=True, tol=None, validation_fraction=0.1,\n",
              "                               verbose=0, warm_start=False))],\n",
              "         verbose=False)"
            ]
          },
          "metadata": {},
          "execution_count": 7
        }
      ]
    },
    {
      "cell_type": "code",
      "metadata": {
        "colab": {
          "base_uri": "https://localhost:8080/"
        },
        "id": "2thknUDY4nRR",
        "outputId": "22f57aeb-fa23-47b5-f06e-0e6776c66797"
      },
      "source": [
        "import numpy as np\n",
        "predicted = text_clf.predict(val_x)\n",
        "np.mean(predicted == val_y['label'])"
      ],
      "execution_count": null,
      "outputs": [
        {
          "output_type": "execute_result",
          "data": {
            "text/plain": [
              "0.9760579064587973"
            ]
          },
          "metadata": {},
          "execution_count": 8
        }
      ]
    },
    {
      "cell_type": "code",
      "metadata": {
        "id": "C2ceUxCP5lhw"
      },
      "source": [
        "from sklearn.model_selection import GridSearchCV\n",
        "\n",
        "parameters = {\n",
        "    'vect__ngram_range': [(1, 1), (1, 2)],\n",
        "    'tfidf__use_idf': (True, False),\n",
        "    'clf__alpha': (1e-2, 1e-3)\n",
        "}\n",
        "\n",
        "gl_clf = GridSearchCV(text_clf, parameters, cv=5)\n",
        "\n",
        "gl_clf = gl_clf.fit(train_x, train_y['label'])"
      ],
      "execution_count": null,
      "outputs": []
    },
    {
      "cell_type": "code",
      "metadata": {
        "colab": {
          "base_uri": "https://localhost:8080/"
        },
        "id": "UnHlqXSUAa-t",
        "outputId": "9930766b-a14a-4be8-e04d-16f68b1283ad"
      },
      "source": [
        "gl_clf.best_score_"
      ],
      "execution_count": null,
      "outputs": [
        {
          "output_type": "execute_result",
          "data": {
            "text/plain": [
              "0.9765577565440797"
            ]
          },
          "metadata": {},
          "execution_count": 13
        }
      ]
    },
    {
      "cell_type": "code",
      "metadata": {
        "colab": {
          "base_uri": "https://localhost:8080/"
        },
        "id": "hYYJT2RtAfx8",
        "outputId": "68df8063-a809-4caa-b325-6704965d2ba1"
      },
      "source": [
        "for param_name in sorted(parameters.keys()):\n",
        "  print(f\"{param_name}  {gl_clf.best_params_[param_name]}\")"
      ],
      "execution_count": null,
      "outputs": [
        {
          "output_type": "stream",
          "text": [
            "clf__alpha  0.001\n",
            "tfidf__use_idf  True\n",
            "vect__ngram_range  (1, 1)\n"
          ],
          "name": "stdout"
        }
      ]
    }
  ]
}